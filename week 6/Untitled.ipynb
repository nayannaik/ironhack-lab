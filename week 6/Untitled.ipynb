{
 "cells": [
  {
   "cell_type": "code",
   "execution_count": null,
   "id": "32ce7e84",
   "metadata": {},
   "outputs": [],
   "source": [
    "import spotipy\n",
    "from spotipy.oauth2 import SpotifyClientCredentials\n",
    "\n",
    "\n",
    "c_id = \"aa98c6c0093641feb21c982d07440d4e\"\n",
    "c_se =\"003fa843fbd54442820ae2ed35856e9e\"\n",
    "\n",
    "sp = spotipy.Spotify(auth_manager=SpotifyClientCredentials(client_id=c_id, client_secret=c_se))"
   ]
  },
  {
   "cell_type": "code",
   "execution_count": null,
   "id": "17bd335c",
   "metadata": {},
   "outputs": [],
   "source": [
    "soup.select(\".titleColumn\")"
   ]
  },
  {
   "cell_type": "code",
   "execution_count": null,
   "id": "e297739c",
   "metadata": {},
   "outputs": [],
   "source": [
    "soup.select(\".titleColumn a\")"
   ]
  },
  {
   "cell_type": "code",
   "execution_count": null,
   "id": "8dc134ae",
   "metadata": {},
   "outputs": [],
   "source": [
    "soup.select(\".titleColumn > a\")[0][\"title\"]\n",
    "#getting title of index 0, as it is list"
   ]
  },
  {
   "cell_type": "code",
   "execution_count": null,
   "id": "b3d7c346",
   "metadata": {},
   "outputs": [],
   "source": [
    "for item in soup.select(\".titleColumn > a\"):\n",
    "    print(item[\"title\"])"
   ]
  },
  {
   "cell_type": "code",
   "execution_count": null,
   "id": "3feef207",
   "metadata": {},
   "outputs": [],
   "source": [
    "film_actor = []\n",
    "for item in soup.select(\".titleColumn > a\"):\n",
    "    print(item[\"title\"])\n",
    "    film_actor.append(item[\"title\"])"
   ]
  },
  {
   "cell_type": "code",
   "execution_count": null,
   "id": "96dd377d",
   "metadata": {},
   "outputs": [],
   "source": [
    "for item in soup.select(\".SecondaryInfo\"):\n",
    "    print(item.get_tetxt())"
   ]
  },
  {
   "cell_type": "code",
   "execution_count": null,
   "id": "1b16de6c",
   "metadata": {},
   "outputs": [],
   "source": []
  },
  {
   "cell_type": "code",
   "execution_count": null,
   "id": "606bc728",
   "metadata": {},
   "outputs": [],
   "source": []
  }
 ],
 "metadata": {
  "kernelspec": {
   "display_name": "Python 3 (ipykernel)",
   "language": "python",
   "name": "python3"
  },
  "language_info": {
   "codemirror_mode": {
    "name": "ipython",
    "version": 3
   },
   "file_extension": ".py",
   "mimetype": "text/x-python",
   "name": "python",
   "nbconvert_exporter": "python",
   "pygments_lexer": "ipython3",
   "version": "3.9.7"
  }
 },
 "nbformat": 4,
 "nbformat_minor": 5
}
