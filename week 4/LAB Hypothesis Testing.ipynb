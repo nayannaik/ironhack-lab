{
 "cells": [
  {
   "cell_type": "code",
   "execution_count": 1,
   "id": "87fa893b",
   "metadata": {},
   "outputs": [],
   "source": [
    "import numpy as np\n",
    "import pandas as pd\n",
    "import scipy.stats as stats\n",
    "import matplotlib.pyplot as plt\n",
    "import seaborn as sns\n"
   ]
  },
  {
   "cell_type": "code",
   "execution_count": null,
   "id": "6348f97b",
   "metadata": {},
   "outputs": [],
   "source": [
    "Null Hypothesis is μ = 120 mm Hg\n",
    "Alternative Hypothesis is μ != 120 mm Hg\n",
    "n =100\n",
    "sample mean = 130.1 mm Hg\n",
    "SD of sample mean = 21.21 Hg\n",
    "T = (130.1-120)/ (21.21/100**(1/2))\n",
    " = 4.76\n",
    "    "
   ]
  }
 ],
 "metadata": {
  "kernelspec": {
   "display_name": "Python 3 (ipykernel)",
   "language": "python",
   "name": "python3"
  },
  "language_info": {
   "codemirror_mode": {
    "name": "ipython",
    "version": 3
   },
   "file_extension": ".py",
   "mimetype": "text/x-python",
   "name": "python",
   "nbconvert_exporter": "python",
   "pygments_lexer": "ipython3",
   "version": "3.9.7"
  }
 },
 "nbformat": 4,
 "nbformat_minor": 5
}
