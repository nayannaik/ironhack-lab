{
 "cells": [
  {
   "cell_type": "markdown",
   "id": "6363e7b6",
   "metadata": {},
   "source": [
    "### Importing Libraries"
   ]
  },
  {
   "cell_type": "code",
   "execution_count": 40,
   "id": "2be9ea36",
   "metadata": {},
   "outputs": [],
   "source": [
    "import numpy as np\n",
    "import pandas as pd\n",
    "import matplotlib.pyplot as plt\n",
    "%matplotlib inline\n",
    "import seaborn as sns\n",
    "import statsmodels.api as sm\n",
    "from scipy.stats import boxcox\n",
    "\n",
    "pd.options.display.max_rows = 200"
   ]
  },
  {
   "cell_type": "markdown",
   "id": "bd6b3496",
   "metadata": {},
   "source": [
    "### Loading Data Set"
   ]
  },
  {
   "cell_type": "code",
   "execution_count": 41,
   "id": "cd9c9e85",
   "metadata": {
    "scrolled": true
   },
   "outputs": [
    {
     "data": {
      "text/html": [
       "<div>\n",
       "<style scoped>\n",
       "    .dataframe tbody tr th:only-of-type {\n",
       "        vertical-align: middle;\n",
       "    }\n",
       "\n",
       "    .dataframe tbody tr th {\n",
       "        vertical-align: top;\n",
       "    }\n",
       "\n",
       "    .dataframe thead th {\n",
       "        text-align: right;\n",
       "    }\n",
       "</style>\n",
       "<table border=\"1\" class=\"dataframe\">\n",
       "  <thead>\n",
       "    <tr style=\"text-align: right;\">\n",
       "      <th></th>\n",
       "      <th>show_id</th>\n",
       "      <th>type</th>\n",
       "      <th>title</th>\n",
       "      <th>director</th>\n",
       "      <th>cast</th>\n",
       "      <th>country</th>\n",
       "      <th>date_added</th>\n",
       "      <th>release_year</th>\n",
       "      <th>rating</th>\n",
       "      <th>duration</th>\n",
       "      <th>listed_in</th>\n",
       "      <th>description</th>\n",
       "    </tr>\n",
       "  </thead>\n",
       "  <tbody>\n",
       "    <tr>\n",
       "      <th>0</th>\n",
       "      <td>s1</td>\n",
       "      <td>Movie</td>\n",
       "      <td>Dick Johnson Is Dead</td>\n",
       "      <td>Kirsten Johnson</td>\n",
       "      <td>NaN</td>\n",
       "      <td>United States</td>\n",
       "      <td>September 25, 2021</td>\n",
       "      <td>2020</td>\n",
       "      <td>PG-13</td>\n",
       "      <td>90 min</td>\n",
       "      <td>Documentaries</td>\n",
       "      <td>As her father nears the end of his life, filmm...</td>\n",
       "    </tr>\n",
       "    <tr>\n",
       "      <th>1</th>\n",
       "      <td>s2</td>\n",
       "      <td>TV Show</td>\n",
       "      <td>Blood &amp; Water</td>\n",
       "      <td>NaN</td>\n",
       "      <td>Ama Qamata, Khosi Ngema, Gail Mabalane, Thaban...</td>\n",
       "      <td>South Africa</td>\n",
       "      <td>September 24, 2021</td>\n",
       "      <td>2021</td>\n",
       "      <td>TV-MA</td>\n",
       "      <td>2 Seasons</td>\n",
       "      <td>International TV Shows, TV Dramas, TV Mysteries</td>\n",
       "      <td>After crossing paths at a party, a Cape Town t...</td>\n",
       "    </tr>\n",
       "    <tr>\n",
       "      <th>2</th>\n",
       "      <td>s3</td>\n",
       "      <td>TV Show</td>\n",
       "      <td>Ganglands</td>\n",
       "      <td>Julien Leclercq</td>\n",
       "      <td>Sami Bouajila, Tracy Gotoas, Samuel Jouy, Nabi...</td>\n",
       "      <td>NaN</td>\n",
       "      <td>September 24, 2021</td>\n",
       "      <td>2021</td>\n",
       "      <td>TV-MA</td>\n",
       "      <td>1 Season</td>\n",
       "      <td>Crime TV Shows, International TV Shows, TV Act...</td>\n",
       "      <td>To protect his family from a powerful drug lor...</td>\n",
       "    </tr>\n",
       "    <tr>\n",
       "      <th>3</th>\n",
       "      <td>s4</td>\n",
       "      <td>TV Show</td>\n",
       "      <td>Jailbirds New Orleans</td>\n",
       "      <td>NaN</td>\n",
       "      <td>NaN</td>\n",
       "      <td>NaN</td>\n",
       "      <td>September 24, 2021</td>\n",
       "      <td>2021</td>\n",
       "      <td>TV-MA</td>\n",
       "      <td>1 Season</td>\n",
       "      <td>Docuseries, Reality TV</td>\n",
       "      <td>Feuds, flirtations and toilet talk go down amo...</td>\n",
       "    </tr>\n",
       "    <tr>\n",
       "      <th>4</th>\n",
       "      <td>s5</td>\n",
       "      <td>TV Show</td>\n",
       "      <td>Kota Factory</td>\n",
       "      <td>NaN</td>\n",
       "      <td>Mayur More, Jitendra Kumar, Ranjan Raj, Alam K...</td>\n",
       "      <td>India</td>\n",
       "      <td>September 24, 2021</td>\n",
       "      <td>2021</td>\n",
       "      <td>TV-MA</td>\n",
       "      <td>2 Seasons</td>\n",
       "      <td>International TV Shows, Romantic TV Shows, TV ...</td>\n",
       "      <td>In a city of coaching centers known to train I...</td>\n",
       "    </tr>\n",
       "    <tr>\n",
       "      <th>...</th>\n",
       "      <td>...</td>\n",
       "      <td>...</td>\n",
       "      <td>...</td>\n",
       "      <td>...</td>\n",
       "      <td>...</td>\n",
       "      <td>...</td>\n",
       "      <td>...</td>\n",
       "      <td>...</td>\n",
       "      <td>...</td>\n",
       "      <td>...</td>\n",
       "      <td>...</td>\n",
       "      <td>...</td>\n",
       "    </tr>\n",
       "    <tr>\n",
       "      <th>8802</th>\n",
       "      <td>s8803</td>\n",
       "      <td>Movie</td>\n",
       "      <td>Zodiac</td>\n",
       "      <td>David Fincher</td>\n",
       "      <td>Mark Ruffalo, Jake Gyllenhaal, Robert Downey J...</td>\n",
       "      <td>United States</td>\n",
       "      <td>November 20, 2019</td>\n",
       "      <td>2007</td>\n",
       "      <td>R</td>\n",
       "      <td>158 min</td>\n",
       "      <td>Cult Movies, Dramas, Thrillers</td>\n",
       "      <td>A political cartoonist, a crime reporter and a...</td>\n",
       "    </tr>\n",
       "    <tr>\n",
       "      <th>8803</th>\n",
       "      <td>s8804</td>\n",
       "      <td>TV Show</td>\n",
       "      <td>Zombie Dumb</td>\n",
       "      <td>NaN</td>\n",
       "      <td>NaN</td>\n",
       "      <td>NaN</td>\n",
       "      <td>July 1, 2019</td>\n",
       "      <td>2018</td>\n",
       "      <td>TV-Y7</td>\n",
       "      <td>2 Seasons</td>\n",
       "      <td>Kids' TV, Korean TV Shows, TV Comedies</td>\n",
       "      <td>While living alone in a spooky town, a young g...</td>\n",
       "    </tr>\n",
       "    <tr>\n",
       "      <th>8804</th>\n",
       "      <td>s8805</td>\n",
       "      <td>Movie</td>\n",
       "      <td>Zombieland</td>\n",
       "      <td>Ruben Fleischer</td>\n",
       "      <td>Jesse Eisenberg, Woody Harrelson, Emma Stone, ...</td>\n",
       "      <td>United States</td>\n",
       "      <td>November 1, 2019</td>\n",
       "      <td>2009</td>\n",
       "      <td>R</td>\n",
       "      <td>88 min</td>\n",
       "      <td>Comedies, Horror Movies</td>\n",
       "      <td>Looking to survive in a world taken over by zo...</td>\n",
       "    </tr>\n",
       "    <tr>\n",
       "      <th>8805</th>\n",
       "      <td>s8806</td>\n",
       "      <td>Movie</td>\n",
       "      <td>Zoom</td>\n",
       "      <td>Peter Hewitt</td>\n",
       "      <td>Tim Allen, Courteney Cox, Chevy Chase, Kate Ma...</td>\n",
       "      <td>United States</td>\n",
       "      <td>January 11, 2020</td>\n",
       "      <td>2006</td>\n",
       "      <td>PG</td>\n",
       "      <td>88 min</td>\n",
       "      <td>Children &amp; Family Movies, Comedies</td>\n",
       "      <td>Dragged from civilian life, a former superhero...</td>\n",
       "    </tr>\n",
       "    <tr>\n",
       "      <th>8806</th>\n",
       "      <td>s8807</td>\n",
       "      <td>Movie</td>\n",
       "      <td>Zubaan</td>\n",
       "      <td>Mozez Singh</td>\n",
       "      <td>Vicky Kaushal, Sarah-Jane Dias, Raaghav Chanan...</td>\n",
       "      <td>India</td>\n",
       "      <td>March 2, 2019</td>\n",
       "      <td>2015</td>\n",
       "      <td>TV-14</td>\n",
       "      <td>111 min</td>\n",
       "      <td>Dramas, International Movies, Music &amp; Musicals</td>\n",
       "      <td>A scrappy but poor boy worms his way into a ty...</td>\n",
       "    </tr>\n",
       "  </tbody>\n",
       "</table>\n",
       "<p>8807 rows × 12 columns</p>\n",
       "</div>"
      ],
      "text/plain": [
       "     show_id     type                  title         director  \\\n",
       "0         s1    Movie   Dick Johnson Is Dead  Kirsten Johnson   \n",
       "1         s2  TV Show          Blood & Water              NaN   \n",
       "2         s3  TV Show              Ganglands  Julien Leclercq   \n",
       "3         s4  TV Show  Jailbirds New Orleans              NaN   \n",
       "4         s5  TV Show           Kota Factory              NaN   \n",
       "...      ...      ...                    ...              ...   \n",
       "8802   s8803    Movie                 Zodiac    David Fincher   \n",
       "8803   s8804  TV Show            Zombie Dumb              NaN   \n",
       "8804   s8805    Movie             Zombieland  Ruben Fleischer   \n",
       "8805   s8806    Movie                   Zoom     Peter Hewitt   \n",
       "8806   s8807    Movie                 Zubaan      Mozez Singh   \n",
       "\n",
       "                                                   cast        country  \\\n",
       "0                                                   NaN  United States   \n",
       "1     Ama Qamata, Khosi Ngema, Gail Mabalane, Thaban...   South Africa   \n",
       "2     Sami Bouajila, Tracy Gotoas, Samuel Jouy, Nabi...            NaN   \n",
       "3                                                   NaN            NaN   \n",
       "4     Mayur More, Jitendra Kumar, Ranjan Raj, Alam K...          India   \n",
       "...                                                 ...            ...   \n",
       "8802  Mark Ruffalo, Jake Gyllenhaal, Robert Downey J...  United States   \n",
       "8803                                                NaN            NaN   \n",
       "8804  Jesse Eisenberg, Woody Harrelson, Emma Stone, ...  United States   \n",
       "8805  Tim Allen, Courteney Cox, Chevy Chase, Kate Ma...  United States   \n",
       "8806  Vicky Kaushal, Sarah-Jane Dias, Raaghav Chanan...          India   \n",
       "\n",
       "              date_added  release_year rating   duration  \\\n",
       "0     September 25, 2021          2020  PG-13     90 min   \n",
       "1     September 24, 2021          2021  TV-MA  2 Seasons   \n",
       "2     September 24, 2021          2021  TV-MA   1 Season   \n",
       "3     September 24, 2021          2021  TV-MA   1 Season   \n",
       "4     September 24, 2021          2021  TV-MA  2 Seasons   \n",
       "...                  ...           ...    ...        ...   \n",
       "8802   November 20, 2019          2007      R    158 min   \n",
       "8803        July 1, 2019          2018  TV-Y7  2 Seasons   \n",
       "8804    November 1, 2019          2009      R     88 min   \n",
       "8805    January 11, 2020          2006     PG     88 min   \n",
       "8806       March 2, 2019          2015  TV-14    111 min   \n",
       "\n",
       "                                              listed_in  \\\n",
       "0                                         Documentaries   \n",
       "1       International TV Shows, TV Dramas, TV Mysteries   \n",
       "2     Crime TV Shows, International TV Shows, TV Act...   \n",
       "3                                Docuseries, Reality TV   \n",
       "4     International TV Shows, Romantic TV Shows, TV ...   \n",
       "...                                                 ...   \n",
       "8802                     Cult Movies, Dramas, Thrillers   \n",
       "8803             Kids' TV, Korean TV Shows, TV Comedies   \n",
       "8804                            Comedies, Horror Movies   \n",
       "8805                 Children & Family Movies, Comedies   \n",
       "8806     Dramas, International Movies, Music & Musicals   \n",
       "\n",
       "                                            description  \n",
       "0     As her father nears the end of his life, filmm...  \n",
       "1     After crossing paths at a party, a Cape Town t...  \n",
       "2     To protect his family from a powerful drug lor...  \n",
       "3     Feuds, flirtations and toilet talk go down amo...  \n",
       "4     In a city of coaching centers known to train I...  \n",
       "...                                                 ...  \n",
       "8802  A political cartoonist, a crime reporter and a...  \n",
       "8803  While living alone in a spooky town, a young g...  \n",
       "8804  Looking to survive in a world taken over by zo...  \n",
       "8805  Dragged from civilian life, a former superhero...  \n",
       "8806  A scrappy but poor boy worms his way into a ty...  \n",
       "\n",
       "[8807 rows x 12 columns]"
      ]
     },
     "execution_count": 41,
     "metadata": {},
     "output_type": "execute_result"
    }
   ],
   "source": [
    "netflix = pd.read_csv('netflix_titles.csv')\n",
    "netflix"
   ]
  },
  {
   "cell_type": "markdown",
   "id": "ac73acee",
   "metadata": {},
   "source": [
    "## Data Cleaning\n",
    "### - remove the string in the columns that appear as a the first string of the row but is not a genre \n",
    "This step is to allow us to be able to classify the different rows in the column listed_in into various genres"
   ]
  },
  {
   "cell_type": "code",
   "execution_count": 29,
   "id": "3a6dc263",
   "metadata": {},
   "outputs": [
    {
     "data": {
      "text/plain": [
       "0                                           Documentaries\n",
       "1                                    Dramas, TV Mysteries\n",
       "2       Crime TV Shows, International TV Shows, TV Act...\n",
       "3                                  Docuseries, Reality TV\n",
       "4                          Romantic TV Shows, TV Comedies\n",
       "                              ...                        \n",
       "8802                       Cult Movies, Dramas, Thrillers\n",
       "8803               Kids' TV, Korean TV Shows, TV Comedies\n",
       "8804                              Comedies, Horror Movies\n",
       "8805                   Children & Family Movies, Comedies\n",
       "8806       Dramas, International Movies, Music & Musicals\n",
       "Name: listed_in, Length: 8807, dtype: object"
      ]
     },
     "execution_count": 29,
     "metadata": {},
     "output_type": "execute_result"
    }
   ],
   "source": [
    "netflix['listed_in'] = netflix['listed_in'].apply(lambda x: x.lstrip('International TV Shows, '))\n",
    "netflix['listed_in']"
   ]
  },
  {
   "cell_type": "markdown",
   "id": "5fe761ba",
   "metadata": {},
   "source": [
    "netflix['listed_in'] = netflix['listed_in'].map(lambda x: x.lstrip('British TV Shows,'))\n",
    "netflix['listed_in'] = netflix['listed_in'].map(lambda x: x.lstrip(\"panish-Language TV Shows,\"))\n",
    "netflix['listed_in'] = netflix['listed_in'].map(lambda x: x.lstrip(\"Korean TV Shows,\"))"
   ]
  },
  {
   "cell_type": "markdown",
   "id": "78071c43",
   "metadata": {},
   "source": [
    "### Selecting the first string in the column listed_in  to be able to classify them in various genres"
   ]
  },
  {
   "cell_type": "code",
   "execution_count": 30,
   "id": "ed02d523",
   "metadata": {},
   "outputs": [],
   "source": [
    "#netflix['listed_in']= netflix['listed_in'].str.split(',', 1)\n",
    "#netflix['listed_in']\n"
   ]
  },
  {
   "cell_type": "markdown",
   "id": "26b17704",
   "metadata": {},
   "source": [
    "netflix['listed_in'].str.split(',', 1)"
   ]
  },
  {
   "cell_type": "code",
   "execution_count": 39,
   "id": "9ae2e560",
   "metadata": {},
   "outputs": [
    {
     "ename": "SyntaxError",
     "evalue": "unexpected EOF while parsing (4270982792.py, line 1)",
     "output_type": "error",
     "traceback": [
      "\u001b[0;36m  Input \u001b[0;32mIn [39]\u001b[0;36m\u001b[0m\n\u001b[0;31m    netflix['listed_in'].apply(lambda x: x.split(',')[0] if len(x.split(',') > 1).head(20)\u001b[0m\n\u001b[0m                                                                                          ^\u001b[0m\n\u001b[0;31mSyntaxError\u001b[0m\u001b[0;31m:\u001b[0m unexpected EOF while parsing\n"
     ]
    }
   ],
   "source": [
    "netflix['listed_in'].apply(lambda x: x.split(',')[0] if len(x.split(',') > 1).head(20)\n"
   ]
  },
  {
   "cell_type": "code",
   "execution_count": 14,
   "id": "4479754d",
   "metadata": {},
   "outputs": [
    {
     "data": {
      "text/plain": [
       "18      \n",
       "29      \n",
       "122     \n",
       "148     \n",
       "150     \n",
       "297     \n",
       "358     \n",
       "384     \n",
       "485     \n",
       "600     \n",
       "622     \n",
       "726     \n",
       "771     \n",
       "788     \n",
       "816     \n",
       "824     \n",
       "866     \n",
       "971     \n",
       "1013    \n",
       "1034    \n",
       "1046    \n",
       "1187    \n",
       "1309    \n",
       "1331    \n",
       "1358    \n",
       "1393    \n",
       "1409    \n",
       "1610    \n",
       "1624    \n",
       "1631    \n",
       "1700    \n",
       "1721    \n",
       "2232    \n",
       "2311    \n",
       "2597    \n",
       "2757    \n",
       "2877    \n",
       "3107    \n",
       "3429    \n",
       "3657    \n",
       "3734    \n",
       "3893    \n",
       "4250    \n",
       "5077    \n",
       "5156    \n",
       "6024    \n",
       "6042    \n",
       "6123    \n",
       "6141    \n",
       "6214    \n",
       "6330    \n",
       "6347    \n",
       "6469    \n",
       "6597    \n",
       "6598    \n",
       "6601    \n",
       "6616    \n",
       "6709    \n",
       "6735    \n",
       "6738    \n",
       "6869    \n",
       "6915    \n",
       "6950    \n",
       "7065    \n",
       "7166    \n",
       "7213    \n",
       "7322    \n",
       "7482    \n",
       "7701    \n",
       "7728    \n",
       "7743    \n",
       "7905    \n",
       "8039    \n",
       "8079    \n",
       "8173    \n",
       "8281    \n",
       "8492    \n",
       "8520    \n",
       "8535    \n",
       "8537    \n",
       "8566    \n",
       "8648    \n",
       "8704    \n",
       "Name: listed_in, dtype: object"
      ]
     },
     "execution_count": 14,
     "metadata": {},
     "output_type": "execute_result"
    }
   ],
   "source": [
    "netflix['listed_in'][netflix['listed_in'] == '']"
   ]
  },
  {
   "cell_type": "code",
   "execution_count": 28,
   "id": "4ed10223",
   "metadata": {},
   "outputs": [
    {
     "data": {
      "text/plain": [
       "array(['Documentaries', 'Dramas', 'Crime TV Shows', 'Docuseries',\n",
       "       'Romantic TV Shows', 'Children & Family Movies',\n",
       "       'British TV Shows', 'Comedies', '', 'panish-Language TV Shows',\n",
       "       'Action & Adventure', 'Horror Movies', \"Kids' TV\", 'Reality TV',\n",
       "       'Anime Series', 'Movies', 'ci-Fi & Fantasy', 'Classic Movies',\n",
       "       'd-Up Comedy', 'd-Up Comedy & Talk Shows', 'Classic & Cult TV',\n",
       "       'Anime Features', 'Korean TV Shows', 'Cult Movies', 'Horror',\n",
       "       'dependent Movies', 'Mysteries', 'Music & Musicals',\n",
       "       'Romantic Movies', 'LGBTQ Movies', 'ports Movies'], dtype=object)"
      ]
     },
     "execution_count": 28,
     "metadata": {},
     "output_type": "execute_result"
    }
   ],
   "source": [
    "netflix.listed_in.unique()"
   ]
  },
  {
   "cell_type": "code",
   "execution_count": 30,
   "id": "6a8346f9",
   "metadata": {},
   "outputs": [],
   "source": [
    "netflix['listed_in'] = netflix['listed_in'].replace({'Docuseries':'Documentary',\"Documentaries\": \"Documentary\",\n",
    "                                                     'Crime TV Shows':'Crime', 'Romantic TV Shows':'Romantic', \n",
    "                                                     \"Children & Family Movies\": 'Children & Family','Comedies':'Comedy',\n",
    "                                                     'Horror Movies':'Horror',\"Kids' TV\": 'Children & Family',\n",
    "                                                     'Anime Features':'Animation', \n",
    "                                                     'Anime Series':'Animation','ci-Fi & Fantasy':\"Sci-fi\",\n",
    "                                                     \"d-Up Comedy & Talk Shows\":'Comedy', \n",
    "                                                     'tand-Up Comedy & Talk Shows': 'Comedy', \n",
    "                                                     'Romantic Movies': 'Romantic',\n",
    "                                                    'd-Up Comedy':'Comedy',\n",
    "                                                     'Cult Movies':'Cult',\n",
    "                                                    'Classic & Cult TV':\"Cult\"})"
   ]
  },
  {
   "cell_type": "code",
   "execution_count": 31,
   "id": "35e59d1d",
   "metadata": {},
   "outputs": [
    {
     "data": {
      "text/plain": [
       "23"
      ]
     },
     "execution_count": 31,
     "metadata": {},
     "output_type": "execute_result"
    }
   ],
   "source": [
    "netflix.listed_in.nunique()"
   ]
  },
  {
   "cell_type": "code",
   "execution_count": 32,
   "id": "ac956a2d",
   "metadata": {},
   "outputs": [
    {
     "data": {
      "text/plain": [
       "Dramas                      1862\n",
       "Comedy                      1788\n",
       "Documentary                 1050\n",
       "Children & Family            994\n",
       "Action & Adventure           933\n",
       "Crime                        399\n",
       "Horror                       299\n",
       "Romantic                     253\n",
       "British TV Shows             253\n",
       "Animation                    197\n",
       "Movies                       185\n",
       "Reality TV                   180\n",
       "Korean TV Shows              108\n",
       "                              83\n",
       "Classic Movies                80\n",
       "panish-Language TV Shows      53\n",
       "Cult                          34\n",
       "dependent Movies              20\n",
       "Music & Musicals              18\n",
       "Sci-fi                        14\n",
       "Mysteries                      2\n",
       "LGBTQ Movies                   1\n",
       "ports Movies                   1\n",
       "Name: listed_in, dtype: int64"
      ]
     },
     "execution_count": 32,
     "metadata": {},
     "output_type": "execute_result"
    }
   ],
   "source": [
    "netflix[\"listed_in\"].value_counts()"
   ]
  },
  {
   "cell_type": "code",
   "execution_count": null,
   "id": "4ea54588",
   "metadata": {},
   "outputs": [],
   "source": []
  },
  {
   "cell_type": "code",
   "execution_count": null,
   "id": "ccd8381a",
   "metadata": {},
   "outputs": [],
   "source": []
  },
  {
   "cell_type": "code",
   "execution_count": null,
   "id": "2b630540",
   "metadata": {},
   "outputs": [],
   "source": []
  }
 ],
 "metadata": {
  "kernelspec": {
   "display_name": "Python 3 (ipykernel)",
   "language": "python",
   "name": "python3"
  },
  "language_info": {
   "codemirror_mode": {
    "name": "ipython",
    "version": 3
   },
   "file_extension": ".py",
   "mimetype": "text/x-python",
   "name": "python",
   "nbconvert_exporter": "python",
   "pygments_lexer": "ipython3",
   "version": "3.9.7"
  }
 },
 "nbformat": 4,
 "nbformat_minor": 5
}
