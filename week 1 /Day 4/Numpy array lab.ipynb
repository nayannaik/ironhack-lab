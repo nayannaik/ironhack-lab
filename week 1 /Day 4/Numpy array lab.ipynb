{
 "cells": [
  {
   "cell_type": "markdown",
   "id": "24568460",
   "metadata": {},
   "source": [
    "This is a collection of exercises that have been collected in the numpy mailing list, on stack overflow and \n",
    "in the numpy documentation. The goal of this collection is to offer a quick reference for both old and new users \n",
    "but also to provide a set of exercises for those who teach.\n",
    "\n",
    "If you find an error or think you've a better way to solve some of them, \n",
    "feel free to open an issue at https://github.com/rougier/numpy-100. \n",
    "File automatically generated. See the documentation to update questions/answers/hints programmatically.\n",
    "\n",
    "1. Import the numpy package under the name np (★☆☆)\n",
    "hint: import … as\n",
    "\n",
    "2. Create a null vector of size 10 (★☆☆)\n",
    "hint: np.zeros\n",
    "\n",
    "3. Create a null vector of size 10 but the fifth value which is 1 (★☆☆)\n",
    "hint: array[4]\n",
    "\n",
    "4. Create a vector with values ranging from 10 to 49 (★☆☆)\n",
    "hint: arange\n",
    "\n",
    "5. Create a 3x3 matrix with values ranging from 0 to 8 (★☆☆)\n",
    "hint: reshape\n",
    "\n",
    "6. Find indices of non-zero elements from [1,2,0,0,4,0] (★☆☆)\n",
    "hint: np.nonzero\n",
    "\n",
    "7. Create a 3x3 identity matrix (★☆☆)\n",
    "hint: np.eye\n",
    "\n",
    "8. Create a 3x3x3 array with random values (★☆☆)\n",
    "hint: np.random.random\n",
    "\n",
    "9. Create a 10x10 array with random values and find the minimum and maximum values (★☆☆)\n",
    "hint: min, max\n",
    "\n",
    "10. Create a random vector of size 30 and find the mean value (★☆☆)\n",
    "hint: mean\n",
    "\n",
    "11. Create a 5x5 matrix with values 1,2,3,4 just below the diagonal (★☆☆)\n",
    "hint: np.diag\n",
    "\n",
    "12. Normalize a 5x5 random matrix (★☆☆)\n",
    "hint: (x -mean)/std\n",
    "\n",
    "13. How to find common values between two arrays? (★☆☆)\n",
    "hint: np.intersect1d\n",
    "\n",
    "14. Create a random vector of size 10 and sort it (★★☆)\n",
    "hint: sort\n",
    "\n",
    "15. Create random vector of size 10 and replace the maximum value by 0 (★★☆)\n",
    "hint: argmax\n",
    "\n",
    "16. Subtract the mean of each row of a matrix (★★☆)\n",
    "hint: mean(axis=,keepdims=)\n",
    "\n",
    "17. How to get the n largest values of an array (★★★)\n",
    "Z = np.arange(10000) np.random.shuffle(Z) n = 5 hint: np.argsort | np.argpartition\n",
    "\n",
    "18. Create a random 5*3 matrix and replace items that are larger than 4 by their squares ( Example: 6 --> 36)\n",
    "hint: np.where"
   ]
  },
  {
   "cell_type": "code",
   "execution_count": 2,
   "id": "95162df0",
   "metadata": {},
   "outputs": [
    {
     "data": {
      "text/plain": [
       "array([0., 0., 0., 0., 0., 0., 0., 0., 0., 0.])"
      ]
     },
     "execution_count": 2,
     "metadata": {},
     "output_type": "execute_result"
    }
   ],
   "source": [
    "import numpy as np\n",
    "# Create a null vector of size 10 (★☆☆)\n",
    "np.zeros((10)) "
   ]
  },
  {
   "cell_type": "code",
   "execution_count": 3,
   "id": "a5614fe6",
   "metadata": {},
   "outputs": [
    {
     "name": "stdout",
     "output_type": "stream",
     "text": [
      "[0. 0. 0. 0. 1. 0. 0. 0. 0. 0.]\n"
     ]
    }
   ],
   "source": [
    "import numpy as np\n",
    "x = np.zeros(10)\n",
    "x[4]=1\n",
    "print(x)"
   ]
  },
  {
   "cell_type": "code",
   "execution_count": 4,
   "id": "8da08fcc",
   "metadata": {},
   "outputs": [
    {
     "data": {
      "text/plain": [
       "array([10, 11, 12, 13, 14, 15, 16, 17, 18, 19, 20, 21, 22, 23, 24, 25, 26,\n",
       "       27, 28, 29, 30, 31, 32, 33, 34, 35, 36, 37, 38, 39, 40, 41, 42, 43,\n",
       "       44, 45, 46, 47, 48, 49])"
      ]
     },
     "execution_count": 4,
     "metadata": {},
     "output_type": "execute_result"
    }
   ],
   "source": [
    "#Create a vector with values ranging from 10 to 49 (★☆☆)\n",
    "#hint: arange\n",
    "np.arange(10, 50)"
   ]
  },
  {
   "cell_type": "code",
   "execution_count": 5,
   "id": "bcb93706",
   "metadata": {},
   "outputs": [
    {
     "name": "stdout",
     "output_type": "stream",
     "text": [
      "[[0 1 2]\n",
      " [3 4 5]\n",
      " [6 7 8]]\n"
     ]
    }
   ],
   "source": [
    "# 5. Create a 3x3 matrix with values ranging from 0 to 8 (★☆☆)\n",
    "#hint: reshape\n",
    "a = np.arange(0,9).reshape((3,3))\n",
    "print(a)"
   ]
  },
  {
   "cell_type": "code",
   "execution_count": 6,
   "id": "67686448",
   "metadata": {},
   "outputs": [
    {
     "name": "stdout",
     "output_type": "stream",
     "text": [
      "(array([0, 1, 4]),)\n"
     ]
    }
   ],
   "source": [
    "#6. Find indices of non-zero elements from [1,2,0,0,4,0] (★☆☆)\n",
    "#hint: np.nonzero\n",
    "x = np.nonzero([1,2,0,0,4,0])\n",
    "print(x)"
   ]
  },
  {
   "cell_type": "code",
   "execution_count": 7,
   "id": "d833be9d",
   "metadata": {},
   "outputs": [
    {
     "data": {
      "text/plain": [
       "array([[1., 0., 0.],\n",
       "       [0., 1., 0.],\n",
       "       [0., 0., 1.]])"
      ]
     },
     "execution_count": 7,
     "metadata": {},
     "output_type": "execute_result"
    }
   ],
   "source": [
    "#7. Create a 3x3 identity matrix (★☆☆)\n",
    "# hint: np.eye\n",
    "np.eye(3)\n"
   ]
  },
  {
   "cell_type": "code",
   "execution_count": 8,
   "id": "9a9f7f53",
   "metadata": {},
   "outputs": [
    {
     "data": {
      "text/plain": [
       "array([[[0.81565886, 0.94925339, 0.6217706 ],\n",
       "        [0.87500995, 0.3669573 , 0.49534489],\n",
       "        [0.32718894, 0.76974144, 0.00238832]],\n",
       "\n",
       "       [[0.83206212, 0.50981381, 0.99570229],\n",
       "        [0.1746624 , 0.83057785, 0.86251498],\n",
       "        [0.93558295, 0.70956963, 0.99018618]],\n",
       "\n",
       "       [[0.89305449, 0.86023359, 0.98519268],\n",
       "        [0.67772607, 0.2068177 , 0.47802654],\n",
       "        [0.28625144, 0.47338773, 0.00794745]]])"
      ]
     },
     "execution_count": 8,
     "metadata": {},
     "output_type": "execute_result"
    }
   ],
   "source": [
    "#8. Create a 3x3x3 array with random values (★☆☆)\n",
    "np.random.random((3,3,3))\n"
   ]
  },
  {
   "cell_type": "code",
   "execution_count": 9,
   "id": "763338be",
   "metadata": {},
   "outputs": [
    {
     "name": "stdout",
     "output_type": "stream",
     "text": [
      "[[0.40156573 0.50351499 0.77826835 0.70474232 0.87311645 0.91977586\n",
      "  0.62267795 0.66386516 0.64845403 0.33157321]\n",
      " [0.88025078 0.60015138 0.37829318 0.31866766 0.2432588  0.35895199\n",
      "  0.05322416 0.02473905 0.72366014 0.63298896]\n",
      " [0.54777589 0.42072172 0.91935207 0.14138369 0.58084027 0.74889663\n",
      "  0.56938794 0.62716199 0.4913666  0.56503501]\n",
      " [0.05225431 0.00991173 0.44959109 0.44938054 0.39248757 0.57616675\n",
      "  0.61718176 0.94398766 0.90981801 0.39802517]\n",
      " [0.66995062 0.89534011 0.63783693 0.96534782 0.2074307  0.79219011\n",
      "  0.83209962 0.13128223 0.8780118  0.53016236]\n",
      " [0.18831582 0.20610902 0.34757585 0.75474861 0.78486759 0.22009873\n",
      "  0.87834419 0.65549138 0.66174971 0.80579615]\n",
      " [0.20846669 0.20963179 0.51637763 0.54892329 0.40264397 0.91643763\n",
      "  0.38156292 0.46579009 0.32318759 0.35654689]\n",
      " [0.82115507 0.21921287 0.20197614 0.08297078 0.82051975 0.4353329\n",
      "  0.56277776 0.59118273 0.91409604 0.60682167]\n",
      " [0.14042415 0.68357546 0.15561475 0.20950888 0.62385659 0.86420496\n",
      "  0.69954333 0.01184798 0.75830186 0.04809056]\n",
      " [0.78090453 0.78025214 0.99471812 0.17950593 0.20913447 0.67361337\n",
      "  0.87039816 0.49323235 0.18467723 0.33323299]]\n",
      "Minimum Value:  0.009911725037403785\n",
      "Maximum Value:  0.9947181195024615\n"
     ]
    }
   ],
   "source": [
    "#9. Create a 10x10 array with random values and find the minimum and maximum values (★☆☆)\n",
    "#hint: min, max\n",
    "import numpy as np\n",
    "x = np.random.random((10,10))\n",
    "print(x)\n",
    "Min_value = np.min(x)\n",
    "print(\"Minimum Value: \",Min_value)\n",
    "Max_Value = np.max(x)\n",
    "print(\"Maximum Value: \", Max_Value)\n",
    "      "
   ]
  },
  {
   "cell_type": "code",
   "execution_count": 10,
   "id": "7cf02e1f",
   "metadata": {},
   "outputs": [
    {
     "name": "stdout",
     "output_type": "stream",
     "text": [
      "[0.69246139 0.66421069 0.82859063 0.12263383 0.4965947  0.02669675\n",
      " 0.11227157 0.37219424 0.21471412 0.60668728 0.42195115 0.48906316\n",
      " 0.57564425 0.47103101 0.01039216 0.16084332 0.44700763 0.07334209\n",
      " 0.7936051  0.94517207 0.47620935 0.82620706 0.1541809  0.01443283\n",
      " 0.88089834 0.56167316 0.60067866 0.42648891 0.62602759 0.83987805]\n",
      "Mean:  0.4643927314479336\n"
     ]
    }
   ],
   "source": [
    "#10. Create a random vector of size 30 and find the mean value (★☆☆)\n",
    "#hint: mean\n",
    "x = np.random.random(30)\n",
    "print(x)\n",
    "print(\"Mean: \",np.mean(x))"
   ]
  },
  {
   "cell_type": "code",
   "execution_count": 11,
   "id": "28e3b126",
   "metadata": {},
   "outputs": [
    {
     "name": "stdout",
     "output_type": "stream",
     "text": [
      "[[1 0 0 0 0]\n",
      " [0 2 0 0 0]\n",
      " [0 0 3 0 0]\n",
      " [0 0 0 4 0]\n",
      " [0 0 0 0 5]]\n"
     ]
    }
   ],
   "source": [
    "#11. Create a 5x5 matrix with values 1,2,3,4 just below the diagonal (★☆☆)\n",
    "#hint: np.diag\n",
    "x = np.diag([1, 2, 3, 4, 5])\n",
    "print(x)"
   ]
  },
  {
   "cell_type": "code",
   "execution_count": 12,
   "id": "6611bde5",
   "metadata": {},
   "outputs": [
    {
     "name": "stdout",
     "output_type": "stream",
     "text": [
      "[[0.30396368 0.91901808 0.6557586  0.62891784 0.60794964]\n",
      " [0.82213829 0.48765169 0.9410083  0.81418487 0.64740218]\n",
      " [0.82591506 0.51781684 0.98805262 0.66550878 0.03600278]\n",
      " [0.67378109 0.83540679 0.5034503  0.82549324 0.70280743]\n",
      " [0.60839916 0.49690873 0.21007237 0.05480081 0.7765802 ]]\n",
      "After normalization:\n",
      "[[0.2814568  0.92748852 0.65096993 0.62277733 0.60075307]\n",
      " [0.82572937 0.47439629 0.95058628 0.81737537 0.64219264]\n",
      " [0.82969636 0.50608071 1.         0.66121119 0.        ]\n",
      " [0.66990013 0.83966614 0.4909906  0.82925329 0.70038839]\n",
      " [0.60122523 0.48411956 0.18283664 0.0197448  0.77787673]]\n"
     ]
    }
   ],
   "source": [
    "#12. Normalize a 5x5 random matrix (★☆☆)\n",
    "#hint: (x -mean)/std\n",
    "x = np.random.random((5,5))\n",
    "print(x)\n",
    "xmax, xmin = x.max(), x.min()\n",
    "x = (x - xmin)/(xmax - xmin)\n",
    "print(\"After normalization:\")\n",
    "print(x)"
   ]
  },
  {
   "cell_type": "code",
   "execution_count": 13,
   "id": "ef0d940c",
   "metadata": {},
   "outputs": [
    {
     "name": "stdout",
     "output_type": "stream",
     "text": [
      "x [ 0 10 20 40 60]\n",
      "y [10, 30, 40]\n",
      "common values: [10 40]\n"
     ]
    }
   ],
   "source": [
    "#13. How to find common values between two arrays? (★☆☆)\n",
    "#hint: np.intersect1d\n",
    "x = np.array([0, 10, 20, 40, 60])\n",
    "print(\"x\", x)\n",
    "y = [10, 30, 40]\n",
    "print(\"y\", y)\n",
    "print(\"common values:\", np.intersect1d(x, y))"
   ]
  },
  {
   "cell_type": "code",
   "execution_count": 14,
   "id": "9cef7fcd",
   "metadata": {},
   "outputs": [
    {
     "name": "stdout",
     "output_type": "stream",
     "text": [
      "[0.29249987 0.29507506 0.29643297 0.35071932 0.49770675 0.57770104\n",
      " 0.83039799 0.85223144 0.88912148 0.99778762]\n"
     ]
    }
   ],
   "source": [
    "#14. Create a random vector of size 10 and sort it (★★☆)\n",
    "#hint: sort\n",
    "x = np.random.random(10)\n",
    "print(np.sort(x))"
   ]
  },
  {
   "cell_type": "code",
   "execution_count": 15,
   "id": "1e372d37",
   "metadata": {},
   "outputs": [
    {
     "name": "stdout",
     "output_type": "stream",
     "text": [
      "[0.41661735 0.56227188 0.47541943 0.79660499 0.62974324 0.\n",
      " 0.62443416 0.51780362 0.0611901  0.51751204]\n"
     ]
    }
   ],
   "source": [
    "#15. Create random vector of size 10 and replace the maximum value by 0 (★★☆)\n",
    "#hint: argmax\n",
    "x = np.random.random(10)\n",
    "x[x.argmax()] = 0\n",
    "print(x)"
   ]
  },
  {
   "cell_type": "code",
   "execution_count": 16,
   "id": "5ee7af08",
   "metadata": {},
   "outputs": [
    {
     "name": "stdout",
     "output_type": "stream",
     "text": [
      "Original matrix:\n",
      "\n",
      "[[0.32859237 0.07246847 0.60374004 0.21641269 0.63975602 0.99165532\n",
      "  0.44610255 0.87405856 0.13085634 0.0723492 ]\n",
      " [0.19255254 0.10753274 0.93379466 0.39357838 0.07728299 0.15974243\n",
      "  0.13726764 0.61441899 0.32023678 0.22017636]\n",
      " [0.12418292 0.56710127 0.63562534 0.30084052 0.85831617 0.07054777\n",
      "  0.01721244 0.91355233 0.72861411 0.38611841]\n",
      " [0.57488437 0.74206752 0.03160492 0.44872098 0.81575492 0.56036203\n",
      "  0.06385533 0.46997306 0.84196368 0.95428392]\n",
      " [0.4903158  0.19095877 0.72988053 0.94925972 0.71369637 0.9731175\n",
      "  0.66718333 0.47518879 0.86963459 0.62042104]]\n"
     ]
    }
   ],
   "source": [
    "#16. Subtract the mean of each row of a matrix (★★☆)\n",
    "#hint: mean(axis=,keepdims=)\n",
    "import numpy as np\n",
    "print(\"Original matrix:\\n\")\n",
    "X = np.random.rand(5, 10)\n",
    "print(X)"
   ]
  },
  {
   "cell_type": "code",
   "execution_count": 17,
   "id": "51982d30",
   "metadata": {},
   "outputs": [
    {
     "data": {
      "text/plain": [
       "array([1668, 7020,  668, 1484, 9738])"
      ]
     },
     "execution_count": 17,
     "metadata": {},
     "output_type": "execute_result"
    }
   ],
   "source": [
    "#17. How to get the n largest values of an array (★★★)\n",
    "Z = np.arange(10000)\n",
    "np.random.shuffle(Z)\n",
    "n = 5 \n",
    "#hint: np.argsort | np.argpartition\n",
    "np.argsort(Z)[-n:]"
   ]
  },
  {
   "cell_type": "code",
   "execution_count": 20,
   "id": "ff25557a",
   "metadata": {},
   "outputs": [
    {
     "name": "stdout",
     "output_type": "stream",
     "text": [
      "[[9 7 7]\n",
      " [7 9 4]\n",
      " [9 3 2]\n",
      " [7 8 6]\n",
      " [6 9 4]] \n",
      "\n",
      " [[81 49 49]\n",
      " [49 81  4]\n",
      " [81  3  2]\n",
      " [49 64 36]\n",
      " [36 81  4]]\n"
     ]
    }
   ],
   "source": [
    "#18. Create a random 5*3 matrix and replace items that are larger than 4 by their squares ( Example: 6 --> 36)\n",
    "#hint: np.where\n",
    "x = np.random.randint(1, 10, (5, 3))\n",
    "print(x, '\\n\\n', np.where(x > 4, x**2, x))\n"
   ]
  }
 ],
 "metadata": {
  "kernelspec": {
   "display_name": "Python 3 (ipykernel)",
   "language": "python",
   "name": "python3"
  },
  "language_info": {
   "codemirror_mode": {
    "name": "ipython",
    "version": 3
   },
   "file_extension": ".py",
   "mimetype": "text/x-python",
   "name": "python",
   "nbconvert_exporter": "python",
   "pygments_lexer": "ipython3",
   "version": "3.9.7"
  }
 },
 "nbformat": 4,
 "nbformat_minor": 5
}
